{
 "cells": [
  {
   "cell_type": "markdown",
   "metadata": {
    "slideshow": {
     "slide_type": "-"
    }
   },
   "source": [
    "# Title: The cellulose operon wss is an elicitor of cell division at the Air Liquid Interphase\n",
    "\n",
    "## Authors\n",
    "### Andres F Diaz, Tatyana Pichugina, Dave Rogers, Paul B Rainey\n",
    "### Max Planck Institute for Evolutionary Biology\n",
    "### Ploen - Germany\n",
    "\n",
    "### Abstract\n",
    "\n",
    "Stagnant waters in ponds and lakes provide the condistions for the formation of biofilms communities at the Air Liquid Interphase (ALI). The process is macroscopically observed as the a thin white layer of glue biopolymers such as cellulose. Pseudomona fluorescens is able to macroscopically structure a biofilm using the cellulose operon (WSS), essential for the formation of ALI biofilms. However, the microscopic configuration of single individuals within this compelex comminity has remained unstudied. To understand the process of biofilm formation, we developed a microscopy method to maintain the ALI and observe single bacterial cells from Pseudomonas fluorescens SBW25 during colonization of the ALI. We hypothesize there is two strategies to construct the macroscopic features of biofilms i) \"occupiers\" or bacteria that transiently visit a given empty place at the ALI but do not settle and divide ii) \"colonizers\" or individuals that occupy a space via cell division upon contact with the upper layers of the static microcosm. We argue that the interplay between \"occupiers\" and \"colonizes\" depends on the level of activation of the WSS operon which we monitor using a FRET probe. Our results show that in absence of WSS operon, single bacteria do not divide upon contact with the ALI, promoting a \"occupiers\" phenotype. On the contrary, the presence of WSS remder bacteria sticky resembling the behavior of \"colonists\" thus promoting local growth by division. We analyze WSS activity via its ability to quench ci-di- GMP from the cytosol and find that ci di GMP abundance is regulated by the WSS operon. Our results suggest that ci-di GMP is able to coordinate cellulose production and cell division to promote ALI an surface spreading upon contact with the ALI.     \n",
    "\n",
    "\n",
    "\n"
   ]
  },
  {
   "cell_type": "markdown",
   "metadata": {},
   "source": []
  },
  {
   "cell_type": "markdown",
   "metadata": {
    "slideshow": {
     "slide_type": "slide"
    }
   },
   "source": [
    "# Introduction\n",
    "\n",
    "In natural ponds and stagnant water, bacteria can form communities known as biofilms. The extracellular matrix, composed of different types of glue, protects the bacterial community from dehydration, turbulences, physical and chemical threats (). Biofilms can hinder the diffusion of toxins from bacterial adversaries (). It is thought that besides protection, biofilms act as ecological scaffolds that promote the entrenchment of new bacterial types, isolated within the same biofilm. An example of this is Pseudomona fluorescencs SBW25 biofilms which over a week period, develop three or more bacteril types that occupy and colonize the Air Liquid Interphase.\n",
    "\n",
    "Biofilm growth occurs predominantly in static environments, where there is enough time for bacteria to settle a colony and expand. There is two types of bacteria biofilms; at the bottom on a Liquid Hard Surface Interface (LHSI) media where detritus rich in nutrients provide sufficient surface area for attachment and a relatively stable environment for colony proliferation and the second is biofilms formed few microns from the Air Liquid Interphase (ALI) where oxygen is abundant for respiration. \n",
    "\n",
    "For bacterial communities, ALI biofilms and LHSI biofilms differ in the dynamicity of the the colony growth rate, the amount of nutrients, and bacteria-bacteria contacts are important population parameters to achieve the sustained occupation of a surface (Drescher et al, others colony growth rate) as a community.  \n",
    "In obligate aerobes such as Pseudomonas fluorescens SBW25 growth in static microcosms where there is no agitation at the ALI, a transiently depleted oxygen liquid bulk due to growth, forms an oxygen gradient forcing bacteria to move towards the upper oxygen rich layers in a process calleds aero-taxis. This phenomena described in detail in static microcosms is known to transport Pseudomona fluorescens SBW25 to the upper layers, which eventually due an increase in the viscous partitions the liquid media in two defined phases; a rich bacteria phase at the upper level and a poor bacteria phase at the lower levels. The densified upper layers render a difference in viscosity across them inducing the mixing of both via Rayleigh Taylor flows (Ardre et al), thought to shape the tempo and mode of the ALI colonization \n",
    "The presence of cellulose is essential for the colonization of the ALI controlled by the WSS operon containing genes wssA-J (). In the one hand because cellulose is a very viscous material on the other, because cellulose enhances the stickiness among individuals or any surface. \n",
    "The wss operon encodes enzymes able to polymerize, methylate, and regulate the expression of cellulosic polymers () in conjunction with the Wsp pathway via ci-di-GMP signaling induced over-expression of cellulose (Bantinaki et al 2007) and cellulose over-expression has been found responsible for the wrinky phenotype of  colonies bearing the Wrinkly Spreader (WS) set of mutations in the Wsp pathway. \n",
    "Wrinkly Spreader mutants are more successful by colonizing the ALI than their ancestors in static microcosms letting an oxygen gradient to form \n",
    "so called Smooth Type, forming a thick mat in few hours after inoculation () in static microcosms. Conversely when the two types are put together in shaken cultures, the SM phenotype is more successful at growing than its WS counterpart, showing that the expression of cellulosic polymers confers the scaffolding for WS to take and advantage over its ancestors thus, colonizing the ALI with cellulose glue. \n",
    "Despite the amount of data known on relative fitness among bacteria producing different types of glue, the spatial regulation of cellulose expression at the single cell level remains unknown, mainly due the difficulty to observe at sub micrometer level, the early stages of biofilm formation to study the role of cellulose and spatial regulation of early biofilm formation. \n",
    "To circumvent this problem, we have designed a device that allows us to observe the ALI with an axial resolution of X-Y 100nm Z= 400 nm. Our device provides control of oxygen levels, pressure, humidity and temperature coupled with a super-resolution Airy Scan Microscope, and a Wide Field fast acquisition system. \n",
    "We  using a simple kinetic model of bacteria diffusion, that the regulation of the WSS operon is dual in the sense that it allows adsorption to the surface but also promotes bacteria cell division rate upon attachment. \n"
   ]
  },
  {
   "cell_type": "markdown",
   "metadata": {},
   "source": []
  },
  {
   "cell_type": "markdown",
   "metadata": {},
   "source": [
    "# Materials and Methods\n",
    "\n",
    "## Strain culture\n",
    "Frozen strains from the bacterium Pseudomonas fluorescens SBW25 were unthawed from the -80C freezer the bacteria collection at our laboratory. A 25 or 50 mL vial was inoculated as needed, to grow over 24 hrs in Kings Broth Media ()\n",
    "Once established The inoculum was incubated at 28C in an orbital shaker with 280 RPM tilted with 45 inclination to allow aereation of the culture media and avoid oxygen gradients. \n",
    "\n",
    "After 24 hrs the grown vials were split into two fractions of 25 mL. The OD of the fractions was standardized to 0.5 OD by adding glycerol saline solution 30%  (Methods 1). And distributed to 1 or 2 mL freezing vials at 0.5 OD. Stocks with 0.5 OD were stored at -80 C and were ready to use for further experiments. Each vial was labelled with the date of preparation and the bacteria type used.\n",
    "\n",
    "Some vials were left unused so further plating was used to count Colony Forming Units (CFU).\n",
    "\n",
    "## Strains\n",
    "The strains used in this study are derived from a single ancestor of Pseudomona fluorescens SBW25. Several deletants and in vitro evolved strains for the activation of ci-di-GMP and polymer production were used as shown in (Methods Table 2).\n",
    "Strains were labelled with GFP, BFP and FRET probe for the positional determination via fluorescence microscopy.\n",
    "## Plasmids\n",
    "\n",
    "## Nanocosm preparation\n",
    " supplemented with NaCl and KCl to a final concentration of 60 mM. The addition of salts to the media, enhances the performance of the nanocosm at 26.5 C by increasing the surface tension of the ALI, required to stabilize our imaging area for more than 15 hrs. \n",
    "\n",
    "## Microscopy\n",
    "## Image Analysis Methods\n",
    "\n",
    "\n",
    "\n"
   ]
  },
  {
   "cell_type": "code",
   "execution_count": null,
   "metadata": {
    "collapsed": true
   },
   "outputs": [],
   "source": []
  },
  {
   "cell_type": "markdown",
   "metadata": {},
   "source": [
    "# Results"
   ]
  },
  {
   "cell_type": "code",
   "execution_count": null,
   "metadata": {
    "collapsed": true
   },
   "outputs": [],
   "source": []
  },
  {
   "cell_type": "markdown",
   "metadata": {},
   "source": [
    "# Discussion\n",
    "\n",
    "\n",
    "The colonization of the ALI relies on the production of viscous polymers that locally enhance stickiness stabilizing the biofilm. ci-di GMP act as a second messsenger in the production of viscous polymers such as cellulose, and its activity is at the intersection between sessile and motile living strategies in bacteria critical for biofilm formation.\n",
    "\n",
    "The activation of (wss) operon occurs via ci-di-GMP signaling and regulated by the phospho di-esterase activity of the Wsp pathway. To understand how the single cells colonize the ALI we have built a device that allows us to quantify ALI colonization at a single cell resolution at the upper layers of a static microcosm in vivo. Using a simple kinetic model, we predict that cellulose is essential for the maintenance for the residence time for ALI colonization. \n",
    "\n",
    "To explore this hypothesis, we compare the activity of the wss operon in terms of colonization success and find that higher levels of ci-di GMP delay cell division upon attachment in wss operon deletants and show that the wss operon is essential for single cell adsorption and elicits cell division upon attachment. Using super-resolution microscopy, autocorrelation analysis and ci-diGMP FRET, we find a direct relation between ci-di GMP levels and colonization rates between wild type and Δwss mutants.\n",
    "\n",
    "wss is able to maintain basal levels of the second messenger cidi GMP eliciting cell division in sessile bacteria adsorbed to the ALS interphase. Our results convey with a simple kinetic model of bacteria ALI colonization and find that bacteria deposition at the ALI is not sufficient for biofilm formation, but a combination between adsorption and cell division is essentia for biofilm formation. Our experiments reveal that in abscence of wss operon responsible for cellulose production, adsorbed cells divide 3 times slower upon surface attachment. is able to co-regulate adsorption and cell division timing upon cell adsorption. wss  responds upon contact with a surface maintaining the levels of ci-di GMP low upon surface attachment . We provide experimental evidence that wss operon is a global elicitor of cell division in bacteria via second messenger ci-diGMP during the first hours of attachment and surface colonization in Pseudomonas fluorescens SBW25.\n"
   ]
  },
  {
   "cell_type": "markdown",
   "metadata": {},
   "source": [
    "# Supplementary 1"
   ]
  },
  {
   "cell_type": "markdown",
   "metadata": {},
   "source": [
    "# Literature\n"
   ]
  },
  {
   "cell_type": "code",
   "execution_count": null,
   "metadata": {
    "collapsed": true
   },
   "outputs": [],
   "source": []
  }
 ],
 "metadata": {
  "celltoolbar": "Slideshow",
  "kernelspec": {
   "display_name": "Python 3",
   "language": "python",
   "name": "python3"
  },
  "language_info": {
   "codemirror_mode": {
    "name": "ipython",
    "version": 3
   },
   "file_extension": ".py",
   "mimetype": "text/x-python",
   "name": "python",
   "nbconvert_exporter": "python",
   "pygments_lexer": "ipython3",
   "version": "3.6.6"
  }
 },
 "nbformat": 4,
 "nbformat_minor": 2
}
